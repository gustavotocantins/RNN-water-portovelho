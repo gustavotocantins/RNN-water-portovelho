{
  "cells": [
    {
      "attachments": {},
      "cell_type": "markdown",
      "metadata": {
        "id": "QLbEF5tPtZXc"
      },
      "source": [
        "# **Baixar as bibliotecas**"
      ]
    },
    {
      "cell_type": "code",
      "execution_count": 1,
      "metadata": {
        "id": "ZWUtRiN1tYOy"
      },
      "outputs": [],
      "source": [
        "from time import time\n",
        "import tensorflow as tf\n",
        "import numpy as np\n",
        "import pandas as pd\n",
        "import pickle "
      ]
    },
    {
      "attachments": {},
      "cell_type": "markdown",
      "metadata": {
        "id": "j9vqFLvkt0IC"
      },
      "source": [
        "# **Carregar e normalizar os dados**"
      ]
    },
    {
      "cell_type": "code",
      "execution_count": 2,
      "metadata": {
        "id": "Ivei_4rot7g_"
      },
      "outputs": [],
      "source": [
        "t0 = time()\n",
        "\n",
        "#Carregar o arquivo original\n",
        "xx = pd.read_excel(r\"T1T2T3T4T5T6PRPVPRCJPRFZNAPV.xlsx\",engine='openpyxl')\n",
        "\n",
        "#Fazer uma copia dos dados de 'xx' para fazer a normalização dos dados\n",
        "x = xx.copy()\n",
        "\n",
        "#Normalizar os dados\n",
        "grupo = ['T1', 'T2', 'T3', 'T4', 'T5', 'T6', 'PRPV','PRCJ','PRFZ', 'NAPV']\n",
        "for column in grupo: \n",
        "    x[column] = x[column]  / x[column].max()"
      ]
    },
    {
      "attachments": {},
      "cell_type": "markdown",
      "metadata": {
        "id": "D1WNlAmSuAam"
      },
      "source": [
        "# **Separar os dados**"
      ]
    },
    {
      "cell_type": "code",
      "execution_count": 9,
      "metadata": {
        "id": "VrjjzMQVt7lf"
      },
      "outputs": [],
      "source": [
        "#Dados totais\n",
        "entrada = np.array(x[['T1', 'T2', 'T3', 'T4', 'T5', 'T6', 'PRPV','PRCJ','PRFZ']],dtype='float32')\n",
        "saida = np.array(x['NAPV'],dtype='float32')\n",
        "\n",
        "#Formatação dos 10% dos dados\n",
        "namostra, nvariavel = entrada.shape \n",
        "nteste = int(0.1*namostra) + 1 \n",
        "ntreino = namostra - nteste \n",
        "\n",
        "entrada_10 = entrada[ntreino:namostra,:]\n",
        "saida_des = np.array(x['NAPV'],dtype='float32')\n",
        "saida_des_treino = saida_des[0:ntreino]\n",
        "saida_10 = saida_des[ntreino:namostra]"
      ]
    },
    {
      "attachments": {},
      "cell_type": "markdown",
      "metadata": {
        "id": "QMVpKq-vuWLh"
      },
      "source": [
        "# **Carregar modelo**\n",
        "Adicionar o arquivo \"rmse-0.12498190253973007-n15-e1000-t0.01.pkl\" na pasta e depois mude o nome dele para \"model.pk\""
      ]
    },
    {
      "cell_type": "code",
      "execution_count": 19,
      "metadata": {
        "id": "fGUbhVP4uYxI"
      },
      "outputs": [
        {
          "name": "stdout",
          "output_type": "stream",
          "text": [
            "2/2 [==============================] - 0s 3ms/step\n",
            "11/11 [==============================] - 0s 1ms/step\n"
          ]
        }
      ],
      "source": [
        "import pickle\n",
        "\n",
        "def carregar_modelo(nome):\n",
        "    filename = nome\n",
        "    with open(filename, 'rb') as file:\n",
        "        model = pickle.load(file)\n",
        "    return model\n",
        "\n",
        "modelo = carregar_modelo(r'model.pkl')\n",
        "\n",
        "#Predições \n",
        "teste1 = modelo.predict(entrada_10) #10% dos dados\n",
        "teste2 = modelo.predict(entrada) #Geral"
      ]
    },
    {
      "attachments": {},
      "cell_type": "markdown",
      "metadata": {},
      "source": [
        "# **Descobrir RMSE**"
      ]
    },
    {
      "cell_type": "code",
      "execution_count": 20,
      "metadata": {},
      "outputs": [
        {
          "name": "stdout",
          "output_type": "stream",
          "text": [
            "RMSE de 10% dos dados:  0.1249819\n",
            "RMSE de toda a serie:  0.09570919\n"
          ]
        }
      ],
      "source": [
        "from sklearn.metrics import mean_squared_error \n",
        "def calcular_rmse(real,predicao):\n",
        "    eqm = mean_squared_error(real,predicao) \n",
        "    ermse = np.sqrt(eqm)\n",
        "    return ermse\n",
        "\n",
        "#Fazer predição para os dados de 10%\n",
        "print('RMSE de 10% dos dados: ',calcular_rmse(saida_10,teste1))\n",
        "print('RMSE de toda a serie: ',calcular_rmse(saida,teste2))"
      ]
    },
    {
      "attachments": {},
      "cell_type": "markdown",
      "metadata": {},
      "source": [
        "# **Descobrir MSE**\n"
      ]
    },
    {
      "cell_type": "code",
      "execution_count": 21,
      "metadata": {},
      "outputs": [
        {
          "name": "stdout",
          "output_type": "stream",
          "text": [
            "MSE de 10% dos dados:  0.015620476\n",
            "MSE de toda a serie:  0.0091602495\n"
          ]
        }
      ],
      "source": [
        "from sklearn.metrics import mean_squared_error \n",
        "print('MSE de 10% dos dados: ',mean_squared_error(saida_10,teste1))\n",
        "print('MSE de toda a serie: ',mean_squared_error(saida,teste2))"
      ]
    },
    {
      "attachments": {},
      "cell_type": "markdown",
      "metadata": {},
      "source": [
        "# **Descobrir R2**"
      ]
    },
    {
      "cell_type": "code",
      "execution_count": 22,
      "metadata": {},
      "outputs": [
        {
          "name": "stdout",
          "output_type": "stream",
          "text": [
            "R2 de 10% dos dados:  0.7040943489513385\n",
            "R2 de toda a serie:  0.8179635320651961\n"
          ]
        }
      ],
      "source": [
        "from sklearn.metrics import r2_score\n",
        "print('R2 de 10% dos dados: ',r2_score(saida_10,teste1))\n",
        "print('R2 de toda a serie: ',r2_score(saida,teste2))"
      ]
    },
    {
      "attachments": {},
      "cell_type": "markdown",
      "metadata": {},
      "source": [
        "# **Descobrir o MAE**"
      ]
    },
    {
      "cell_type": "code",
      "execution_count": 23,
      "metadata": {},
      "outputs": [
        {
          "name": "stdout",
          "output_type": "stream",
          "text": [
            "R2 de 10% dos dados:  0.106441624\n",
            "R2 de toda a serie:  0.07650267\n"
          ]
        }
      ],
      "source": [
        "from sklearn.metrics import mean_absolute_error\n",
        "print('R2 de 10% dos dados: ', mean_absolute_error(saida_10,teste1))\n",
        "print('R2 de toda a serie: ', mean_absolute_error(saida,teste2))"
      ]
    },
    {
      "attachments": {},
      "cell_type": "markdown",
      "metadata": {},
      "source": [
        "# **Salvar os dados da predição da rede**"
      ]
    },
    {
      "cell_type": "code",
      "execution_count": 9,
      "metadata": {},
      "outputs": [],
      "source": [
        "salvar = teste2*xx['NAPV'].max()\n",
        "df = pd.DataFrame(salvar, columns=['NAPV'])\n",
        "df.to_excel('predicao.xlsx', index=False)"
      ]
    },
    {
      "attachments": {},
      "cell_type": "markdown",
      "metadata": {
        "id": "1fwDc8dYucVZ"
      },
      "source": [
        "# **Exibir os dados**"
      ]
    },
    {
      "attachments": {},
      "cell_type": "markdown",
      "metadata": {},
      "source": [
        "\n",
        "**namostra:** Valor numerico da quantidade total de informações presente no banco de dados\n",
        "\n",
        "**nvariavel:** Valor númerico da quantidade total de variaveis presente no banco de dados\n",
        "\n",
        "**nteste:** É o valor de 10% das informações presente no banco de dados\n",
        "\n",
        "**ntreino:** É o valor do restante (90%) do banco de dados\n",
        "\n",
        "**saida_teste:** 10% dos dados presentes no banco de dados\n",
        "\n",
        "**teste_a:** Pegar os 10% dos dados previstos pela rede"
      ]
    },
    {
      "cell_type": "code",
      "execution_count": 27,
      "metadata": {},
      "outputs": [],
      "source": [
        "#Dados reais\n",
        "namostra, nvariavel = entrada.shape \n",
        "nteste = int(0.1*namostra) + 1 \n",
        "ntreino = namostra - nteste \n",
        "saida_teste = saida[ntreino:namostra] \n",
        "\n",
        "#Dados previstos pela rede\n",
        "teste_a = teste2[ntreino:namostra]"
      ]
    },
    {
      "cell_type": "code",
      "execution_count": 28,
      "metadata": {},
      "outputs": [
        {
          "name": "stdout",
          "output_type": "stream",
          "text": [
            "(303, 9)\n"
          ]
        }
      ],
      "source": [
        "enttreino = entrada[0:ntreino,:] \n",
        "print(enttreino.shape)"
      ]
    },
    {
      "attachments": {},
      "cell_type": "markdown",
      "metadata": {},
      "source": [
        "Exibir essas informações mostrando os valores reais e os que a rede previu"
      ]
    },
    {
      "cell_type": "code",
      "execution_count": 29,
      "metadata": {
        "id": "-BzlnKTtufp2"
      },
      "outputs": [
        {
          "data": {
            "image/png": "[encoded data removed]",
            "text/plain": [
              "<Figure size 640x480 with 1 Axes>"
            ]
          },
          "metadata": {},
          "output_type": "display_data"
        }
      ],
      "source": [
        "\n",
        "t = np.linspace(1,nteste,nteste)\n",
        "\n",
        "import matplotlib.pyplot as plt\n",
        "\n",
        "plt.plot(t,saida_teste,t,teste_a,'--')\n",
        "plt.legend(('exata','aproximada'))\n",
        "plt.show()"
      ]
    }
  ],
  "metadata": {
    "colab": {
      "provenance": []
    },
    "kernelspec": {
      "display_name": "Python 3",
      "name": "python3"
    },
    "language_info": {
      "codemirror_mode": {
        "name": "ipython",
        "version": 3
      },
      "file_extension": ".py",
      "mimetype": "text/x-python",
      "name": "python",
      "nbconvert_exporter": "python",
      "pygments_lexer": "ipython3",
      "version": "3.8.0"
    }
  },
  "nbformat": 4,
  "nbformat_minor": 0
}
